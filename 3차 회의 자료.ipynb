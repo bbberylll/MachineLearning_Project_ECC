{
 "cells": [
  {
   "cell_type": "code",
   "execution_count": 1,
   "id": "43a387e4-d768-4cc1-a366-dbc8fb448da6",
   "metadata": {},
   "outputs": [
    {
     "name": "stderr",
     "output_type": "stream",
     "text": [
      "[nltk_data] Downloading package punkt to\n",
      "[nltk_data]     C:\\Users\\rud92\\AppData\\Roaming\\nltk_data...\n",
      "[nltk_data]   Package punkt is already up-to-date!\n",
      "[nltk_data] Downloading package stopwords to\n",
      "[nltk_data]     C:\\Users\\rud92\\AppData\\Roaming\\nltk_data...\n",
      "[nltk_data]   Package stopwords is already up-to-date!\n",
      "[nltk_data] Downloading package wordnet to\n",
      "[nltk_data]     C:\\Users\\rud92\\AppData\\Roaming\\nltk_data...\n",
      "[nltk_data]   Package wordnet is already up-to-date!\n"
     ]
    }
   ],
   "source": [
    "import pandas as pd\n",
    "import numpy as np\n",
    "import matplotlib.pyplot as plt\n",
    "import seaborn as sns\n",
    "from nltk import sent_tokenize\n",
    "import pandas as pd\n",
    "import re\n",
    "import nltk\n",
    "\n",
    "from nltk.tokenize import word_tokenize\n",
    "from nltk.corpus import stopwords\n",
    "from nltk.stem import WordNetLemmatizer, PorterStemmer\n",
    "\n",
    "nltk.download('punkt')\n",
    "nltk.download('stopwords')\n",
    "nltk.download('wordnet')\n",
    "\n",
    "\n",
    "daraz = pd.read_csv(\"C:\\\\Users\\\\rud92\\\\Machine_learning_Project\\\\Daraz Online Shopping App.csv\")"
   ]
  },
  {
   "cell_type": "code",
   "execution_count": 7,
   "id": "431a439c-a826-43b6-b17a-e6f4f1c443db",
   "metadata": {},
   "outputs": [
    {
     "data": {
      "text/plain": [
       "\"The search is by far the most atrocious aspect of this app (or daraz in general; its website on PC isn't any better either) - I can hardly find what I'm looking for and search results bring up loads of completely unrelated products that I have to comb through to find the ones I need. Categories aren't comprehensive - especially for tech-related products. The app is sorely lacking a dark mode. And the volume of promotional notifications it sends everyday is annoying at best.\""
      ]
     },
     "execution_count": 7,
     "metadata": {},
     "output_type": "execute_result"
    }
   ],
   "source": [
    "daraz['content'][1]"
   ]
  },
  {
   "cell_type": "code",
   "execution_count": 21,
   "id": "04d72390-8b9c-43a0-9007-4f5c1828bfed",
   "metadata": {},
   "outputs": [
    {
     "data": {
      "text/html": [
       "<div>\n",
       "<style scoped>\n",
       "    .dataframe tbody tr th:only-of-type {\n",
       "        vertical-align: middle;\n",
       "    }\n",
       "\n",
       "    .dataframe tbody tr th {\n",
       "        vertical-align: top;\n",
       "    }\n",
       "\n",
       "    .dataframe thead th {\n",
       "        text-align: right;\n",
       "    }\n",
       "</style>\n",
       "<table border=\"1\" class=\"dataframe\">\n",
       "  <thead>\n",
       "    <tr style=\"text-align: right;\">\n",
       "      <th></th>\n",
       "      <th>reviewId</th>\n",
       "      <th>content</th>\n",
       "      <th>score</th>\n",
       "      <th>thumbsUpCount</th>\n",
       "      <th>at</th>\n",
       "      <th>replyContent</th>\n",
       "      <th>repliedAt</th>\n",
       "      <th>appName</th>\n",
       "    </tr>\n",
       "  </thead>\n",
       "  <tbody>\n",
       "    <tr>\n",
       "      <th>0</th>\n",
       "      <td>4d1f1db4-2bd5-4177-b926-818bbdca7d71</td>\n",
       "      <td>App is now bombarded with ads, making it feel ...</td>\n",
       "      <td>3</td>\n",
       "      <td>37</td>\n",
       "      <td>1722917166000</td>\n",
       "      <td>NaN</td>\n",
       "      <td>NaN</td>\n",
       "      <td>Daraz Online Shopping App</td>\n",
       "    </tr>\n",
       "    <tr>\n",
       "      <th>1</th>\n",
       "      <td>fcf9b1e3-2a25-4912-a71a-1b2bbdaad249</td>\n",
       "      <td>The search is by far the most atrocious aspect...</td>\n",
       "      <td>1</td>\n",
       "      <td>142</td>\n",
       "      <td>1716157841000</td>\n",
       "      <td>NaN</td>\n",
       "      <td>NaN</td>\n",
       "      <td>Daraz Online Shopping App</td>\n",
       "    </tr>\n",
       "    <tr>\n",
       "      <th>2</th>\n",
       "      <td>2e9aca7c-5100-4ac5-9b6e-dc90411799d1</td>\n",
       "      <td>I recently had an experience with your service...</td>\n",
       "      <td>1</td>\n",
       "      <td>2</td>\n",
       "      <td>1708590397000</td>\n",
       "      <td>NaN</td>\n",
       "      <td>NaN</td>\n",
       "      <td>Daraz Online Shopping App</td>\n",
       "    </tr>\n",
       "  </tbody>\n",
       "</table>\n",
       "</div>"
      ],
      "text/plain": [
       "                               reviewId  \\\n",
       "0  4d1f1db4-2bd5-4177-b926-818bbdca7d71   \n",
       "1  fcf9b1e3-2a25-4912-a71a-1b2bbdaad249   \n",
       "2  2e9aca7c-5100-4ac5-9b6e-dc90411799d1   \n",
       "\n",
       "                                             content  score  thumbsUpCount  \\\n",
       "0  App is now bombarded with ads, making it feel ...      3             37   \n",
       "1  The search is by far the most atrocious aspect...      1            142   \n",
       "2  I recently had an experience with your service...      1              2   \n",
       "\n",
       "              at replyContent  repliedAt                    appName  \n",
       "0  1722917166000          NaN        NaN  Daraz Online Shopping App  \n",
       "1  1716157841000          NaN        NaN  Daraz Online Shopping App  \n",
       "2  1708590397000          NaN        NaN  Daraz Online Shopping App  "
      ]
     },
     "execution_count": 21,
     "metadata": {},
     "output_type": "execute_result"
    }
   ],
   "source": [
    "daraz.head(3)"
   ]
  },
  {
   "cell_type": "code",
   "execution_count": 39,
   "id": "065c68db-defa-4937-af0c-cdf991d77d18",
   "metadata": {},
   "outputs": [
    {
     "name": "stdout",
     "output_type": "stream",
     "text": [
      "                                             content  score  thumbsUpCount  \\\n",
      "0  app bombard ad make feel cheap fraudulent webs...      3             37   \n",
      "1  search far atrocious aspect app daraz general ...      1            142   \n",
      "2  recently experience service would like provide...      1              2   \n",
      "3  much ad notification option disable device sys...      3            699   \n",
      "4  update redesign even uglier front end still bu...      1            313   \n",
      "\n",
      "                     appName  category  \n",
      "0  Daraz Online Shopping App         3  \n",
      "1  Daraz Online Shopping App         5  \n",
      "2  Daraz Online Shopping App         1  \n",
      "3  Daraz Online Shopping App         5  \n",
      "4  Daraz Online Shopping App         5  \n"
     ]
    }
   ],
   "source": [
    "## 칼럼 정리\n",
    "daraz = daraz.drop(columns=['reviewId', 'replyContent', 'repliedAt', 'at'])\n",
    "\n",
    "def assign_category(x):\n",
    "    if x == 0:\n",
    "        return 0\n",
    "    elif 1 <= x <= 5:\n",
    "        return 1\n",
    "    elif 5 < x <= 10:\n",
    "        return 2\n",
    "    elif 11 <= x <= 50:\n",
    "        return 3\n",
    "    elif 51 <= x <= 100:\n",
    "        return 4\n",
    "    else:\n",
    "        return 5\n",
    "\n",
    "daraz['category'] = daraz['thumbsUpCount'].apply(assign_category)\n",
    "\n",
    "# 불용어 리스트 불러오기\n",
    "custom_stopwords = set(stopwords.words('english')).union({\"want\", \"on\", \"buy\", \"give\", \"every\", \"single\", \"pop\", \"one\", \"look\"})\n",
    "\n",
    "# 어간 추출기 및 표제어 추출기 초기화 (WordNetLemmatizer만 사용)\n",
    "lemmatizer = WordNetLemmatizer()\n",
    "stemmer = PorterStemmer()\n",
    "\n",
    "# 텍스트 전처리 함수 정의\n",
    "def preprocess_text(text):\n",
    "    if not isinstance(text, str):  # NaN 방지\n",
    "        return \"\"\n",
    "\n",
    "    # 1. 클렌징: 특수문자 제거, 숫자 제거, HTML 태그 제거\n",
    "    text = text.lower()  # 2. 대소문자 변환\n",
    "    text = re.sub(r'<.*?>', '', text)  # HTML 태그 제거\n",
    "    text = re.sub(r'[^a-z\\s]', '', text)  # 특수문자 제거\n",
    "    text = re.sub(r'\\s+', ' ', text).strip()  # 공백 정리\n",
    "\n",
    "    # 3. 토큰화: 단어 단위로 분리\n",
    "    tokens = word_tokenize(text)\n",
    "\n",
    "    # 4. 불용어 제거\n",
    "    tokens = [word for word in tokens if word not in custom_stopwords]\n",
    "\n",
    "    # 5. 어근 추출 및 표제어 추출 (LancasterStemmer 적용)\n",
    "    tokens = [lemmatizer.lemmatize(word) for word in tokens]\n",
    "    tokens = [lemmatizer.lemmatize(word, pos=\"v\") for word in tokens]\n",
    "\n",
    "    tokens = list(dict.fromkeys(tokens))\n",
    "\n",
    "    return ' '.join(tokens)\n",
    "\n",
    "# 텍스트 전처리 적용\n",
    "daraz['content'] = daraz['content'].apply(preprocess_text)\n",
    "print(daraz.head())"
   ]
  },
  {
   "cell_type": "code",
   "execution_count": 41,
   "id": "e4b7a453-4d48-4fc9-92ce-dbf172324b3f",
   "metadata": {},
   "outputs": [
    {
     "name": "stdout",
     "output_type": "stream",
     "text": [
      "App is now bombarded with ads, making it feel cheap and more of a fraudulent website. The website really has lost its class. They charge you for doing cash on delivery. Ads pop up after every single tap, which is frustrating as one can not look at what he wants to buy when being bombarded with useless ads. But I have to give props to their customer service and their delivery as a whole.\n",
      "app bombard ad make feel cheap fraudulent website really lose class charge cash delivery tap frustrate want useless prop customer service whole\n"
     ]
    }
   ],
   "source": [
    "daraz2 = pd.read_csv(\"C:\\\\Users\\\\rud92\\\\Machine_learning_Project\\\\Daraz Online Shopping App.csv\")\n",
    "print(daraz2['content'][0])\n",
    "\n",
    "print(daraz['content'][0])"
   ]
  }
 ],
 "metadata": {
  "kernelspec": {
   "display_name": "Python 3 (ipykernel)",
   "language": "python",
   "name": "python3"
  },
  "language_info": {
   "codemirror_mode": {
    "name": "ipython",
    "version": 3
   },
   "file_extension": ".py",
   "mimetype": "text/x-python",
   "name": "python",
   "nbconvert_exporter": "python",
   "pygments_lexer": "ipython3",
   "version": "3.12.4"
  }
 },
 "nbformat": 4,
 "nbformat_minor": 5
}
